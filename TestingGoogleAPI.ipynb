{
 "cells": [
  {
   "cell_type": "code",
   "execution_count": 2,
   "metadata": {},
   "outputs": [],
   "source": [
    "import sys,os,time,datetime,pickle,json\n",
    "import pandas as pd\n",
    "import numpy as np\n",
    "from googleapiclient import discovery\n",
    "from googleapiclient.discovery import build\n",
    "from googleapiclient.http import build_http\n",
    "from oauth2client.service_account import ServiceAccountCredentials\n",
    "import httplib2"
   ]
  },
  {
   "cell_type": "code",
   "execution_count": null,
   "metadata": {},
   "outputs": [],
   "source": [
    "\n",
    "scope1 = 'https://www.googleapis.com/auth/analytics.readonly'\n",
    "scope2 = 'https://www.googleapis.com/auth/webmasters.readonly'\n",
    "    #these are specific to vinepair.com\n",
    "    #####################################\n",
    "view_id=\"65358754\"\n",
    "target_url=\"https://vinepair.com/\"\n",
    "key_file_location = 'service.json'\n",
    "    #####################################\n",
    "credentials = ServiceAccountCredentials.from_json_keyfile_name(\n",
    "key_file_location, scopes=[scope1,scope2])\n",
    "\n",
    "api_name='analyticsreporting'\n",
    "api_version='v4'\n",
    "ga_service = build(api_name, api_version, credentials=credentials)\n",
    "\n",
    "http = httplib2.Http()\n",
    "http = credentials.authorize(http)\n",
    "sc_service = build(serviceName='webmasters',version='v3',credentials=credentials, cache_discovery=False)\n",
    "\n"
   ]
  }
 ],
 "metadata": {
  "kernelspec": {
   "display_name": "Python 3",
   "language": "python",
   "name": "python3"
  },
  "language_info": {
   "codemirror_mode": {
    "name": "ipython",
    "version": 3
   },
   "file_extension": ".py",
   "mimetype": "text/x-python",
   "name": "python",
   "nbconvert_exporter": "python",
   "pygments_lexer": "ipython3",
   "version": "3.8.3"
  }
 },
 "nbformat": 4,
 "nbformat_minor": 4
}
